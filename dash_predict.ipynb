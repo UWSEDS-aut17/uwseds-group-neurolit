{
 "cells": [
  {
   "cell_type": "markdown",
   "metadata": {},
   "source": [
    "# NeuroLit Prediction Notebook\n",
    "## Software Engineering for Data Scientists, Autumn 2017\n",
    "## Maggie Clarke, Patrick Donnelly, & Sritam Kethireddy"
   ]
  },
  {
   "cell_type": "code",
   "execution_count": 1,
   "metadata": {
    "ExecuteTime": {
     "end_time": "2017-12-02T00:09:15.638458Z",
     "start_time": "2017-12-02T00:09:14.253282Z"
    }
   },
   "outputs": [
    {
     "name": "stderr",
     "output_type": "stream",
     "text": [
      "WARNING (theano.tensor.blas): Using NumPy C-API based implementation for BLAS functions.\n",
      "C:\\Users\\Patrick\\Anaconda3\\lib\\site-packages\\sklearn\\cross_validation.py:41: DeprecationWarning: This module was deprecated in version 0.18 in favor of the model_selection module into which all the refactored classes and functions are moved. Also note that the interface of the new CV iterators are different from that of this module. This module will be removed in 0.20.\n",
      "  \"This module will be removed in 0.20.\", DeprecationWarning)\n"
     ]
    }
   ],
   "source": [
    "# import necessary modules\n",
    "import warnings\n",
    "warnings.filterwarnings('ignore')\n",
    "import pandas as pd\n",
    "import os\n",
    "import matplotlib.pyplot as plt\n",
    "%matplotlib inline\n",
    "import numpy as np\n",
    "import neurolit as nlit"
   ]
  },
  {
   "cell_type": "markdown",
   "metadata": {},
   "source": [
    "### Initialize dataset\n",
    "To zero in on the data of interest, and before applying ML techniques, select the variables of interest for analysis.\n",
    "\n",
    "**data_folder**: choose a location to store temporary data files that are locally available\n",
    "\n",
    "**selected_metalabels**: choose a group of variables of interest to form and test model\n",
    "    options include:\n",
    "        * WJ - Woodcock Johnson IV Tests of Achievement\n",
    "        * TOWRE - Test of Word Reading Efficiency\n",
    "        * WASI - Weschler Abbreviated Scale of Intelligence\n",
    "        * CTOPP - Comprehensive Test of Phonological Processing\n",
    "        \n",
    "**metalabel_files**: this is the file that categorizes the variables with metalabels\n",
    "\n",
    "**selected_features**: for future functionality, this variable can zero in on a specific variable of interest\n",
    "        in the current iteration, this can only be a test that does not fall within the metalabel selected\n",
    "        \n",
    "**outcome_variable**: this variable relates to the survey variable of interest\n",
    "\n",
    "**missingness_threshold**: set threshold for amount of missing data permitted for analysis\n",
    "\n",
    "**max_missing_count**: allot the number of permitted missing values for a particular participant"
   ]
  },
  {
   "cell_type": "code",
   "execution_count": null,
   "metadata": {},
   "outputs": [],
   "source": [
    "# set up the data, prep for processing\n",
    "ilabs_data = nlit.Dataset(data_folder = os.path.join(nlit.__path__[0],'data'), selected_metalabels='CTOPP'\n",
    "                                        , metalabel_files='readingdata_metalabels.csv'\n",
    "                                        , selected_features = None\n",
    "                                        , outcome_variable = 'Dyslexia Diagnosis'\n",
    "                                        , missingness_threshold = 0.4\n",
    "                                        , max_missing_count = 1)"
   ]
  },
  {
   "cell_type": "code",
   "execution_count": null,
   "metadata": {},
   "outputs": [],
   "source": [
    "# get a visual on how complete the dataset is\n",
    "nlit.dataset.Dataset.visualize_missingness(ilabs_data, output_directory='output')"
   ]
  },
  {
   "cell_type": "code",
   "execution_count": null,
   "metadata": {},
   "outputs": [],
   "source": [
    "# manage missing data values and normalize for PCA fit\n",
    "ilabs_data = nlit.dataset.impute_missing(ilabs_data)\n",
    "ilabs_data = nlit.dataset.normalize_data(ilabs_data)"
   ]
  },
  {
   "cell_type": "code",
   "execution_count": null,
   "metadata": {},
   "outputs": [],
   "source": [
    "# perform pca fit and plot explained variance as a function of components\n",
    "pca, pca_data = nlit.reduce.perform_pca(ilabs_data)\n",
    "nlit.reduce.pca_variance_plot(pca, output_directory='output')\n",
    "pca_data = nlit.reduce.extract_pca_components(pca_data)"
   ]
  },
  {
   "cell_type": "code",
   "execution_count": null,
   "metadata": {},
   "outputs": [],
   "source": [
    "# fit linear model and plot confusion matrix\n",
    "linear_model = nlit.classify.Classifier(dataset_object = ilabs_data, \n",
    "                                        pca_data = pca_data, \n",
    "                                        model_type = 'logistic_regression')\n",
    "linear_model.plot_confusion_matrix(output_directory = 'output')"
   ]
  },
  {
   "cell_type": "code",
   "execution_count": null,
   "metadata": {
    "collapsed": true
   },
   "outputs": [],
   "source": []
  }
 ],
 "metadata": {
  "hide_input": false,
  "kernelspec": {
   "display_name": "Python 3",
   "language": "python",
   "name": "python3"
  },
  "language_info": {
   "codemirror_mode": {
    "name": "ipython",
    "version": 3
   },
   "file_extension": ".py",
   "mimetype": "text/x-python",
   "name": "python",
   "nbconvert_exporter": "python",
   "pygments_lexer": "ipython3",
   "version": "3.6.0"
  },
  "toc": {
   "nav_menu": {},
   "number_sections": true,
   "sideBar": true,
   "skip_h1_title": false,
   "toc_cell": false,
   "toc_position": {},
   "toc_section_display": "block",
   "toc_window_display": true
  },
  "varInspector": {
   "cols": {
    "lenName": 16,
    "lenType": 16,
    "lenVar": 40
   },
   "kernels_config": {
    "python": {
     "delete_cmd_postfix": "",
     "delete_cmd_prefix": "del ",
     "library": "var_list.py",
     "varRefreshCmd": "print(var_dic_list())"
    },
    "r": {
     "delete_cmd_postfix": ") ",
     "delete_cmd_prefix": "rm(",
     "library": "var_list.r",
     "varRefreshCmd": "cat(var_dic_list()) "
    }
   },
   "oldHeight": 510,
   "position": {
    "height": "40px",
    "left": "2124px",
    "right": "71px",
    "top": "122px",
    "width": "365px"
   },
   "types_to_exclude": [
    "module",
    "function",
    "builtin_function_or_method",
    "instance",
    "_Feature"
   ],
   "varInspector_section_display": "none",
   "window_display": true
  }
 },
 "nbformat": 4,
 "nbformat_minor": 2
}
