{
 "cells": [
  {
   "cell_type": "code",
   "execution_count": null,
   "metadata": {
    "ExecuteTime": {
     "start_time": "2017-12-06T18:25:32.494Z"
    }
   },
   "outputs": [],
   "source": [
    "import dash\n",
    "import dash_core_components as dcc\n",
    "import dash_html_components as html\n",
    "import plotly.graph_objs as go\n",
    "import pandas as pd\n",
    "import numpy as np\n",
    "import neurolit as nlit"
   ]
  },
  {
   "cell_type": "code",
   "execution_count": 4,
   "metadata": {
    "ExecuteTime": {
     "end_time": "2017-12-06T18:23:53.251261Z",
     "start_time": "2017-12-06T18:23:48.621858Z"
    }
   },
   "outputs": [
    {
     "name": "stdout",
     "output_type": "stream",
     "text": [
      "What is the API token? 3BEACA40686F7E49838332760FC162EF\n"
     ]
    }
   ],
   "source": [
    "data = nlit.Dataset(data_folder = '~/Desktop')\n",
    "df = data.all_data"
   ]
  },
  {
   "cell_type": "code",
   "execution_count": null,
   "metadata": {
    "ExecuteTime": {
     "start_time": "2017-12-06T18:23:55.238Z"
    }
   },
   "outputs": [
    {
     "name": "stderr",
     "output_type": "stream",
     "text": [
      " * Running on http://127.0.0.1:8050/ (Press CTRL+C to quit)\n",
      "127.0.0.1 - - [06/Dec/2017 10:23:59] \"GET / HTTP/1.1\" 200 -\n",
      "127.0.0.1 - - [06/Dec/2017 10:24:00] \"GET /_dash-layout HTTP/1.1\" 200 -\n",
      "127.0.0.1 - - [06/Dec/2017 10:24:00] \"GET /_dash-dependencies HTTP/1.1\" 200 -\n",
      "[2017-12-06 10:24:00,644] ERROR in app: Exception on /_dash-update-component [POST]\n",
      "Traceback (most recent call last):\n",
      "  File \"/home/ktavabi/miniconda3/envs/dash/lib/python3.6/site-packages/flask/app.py\", line 1982, in wsgi_app\n",
      "    response = self.full_dispatch_request()\n",
      "  File \"/home/ktavabi/miniconda3/envs/dash/lib/python3.6/site-packages/flask/app.py\", line 1614, in full_dispatch_request\n",
      "    rv = self.handle_user_exception(e)\n",
      "  File \"/home/ktavabi/miniconda3/envs/dash/lib/python3.6/site-packages/flask/app.py\", line 1517, in handle_user_exception\n",
      "    reraise(exc_type, exc_value, tb)\n",
      "  File \"/home/ktavabi/miniconda3/envs/dash/lib/python3.6/site-packages/flask/_compat.py\", line 33, in reraise\n",
      "    raise value\n",
      "  File \"/home/ktavabi/miniconda3/envs/dash/lib/python3.6/site-packages/flask/app.py\", line 1612, in full_dispatch_request\n",
      "    rv = self.dispatch_request()\n",
      "  File \"/home/ktavabi/miniconda3/envs/dash/lib/python3.6/site-packages/flask/app.py\", line 1598, in dispatch_request\n",
      "    return self.view_functions[rule.endpoint](**req.view_args)\n",
      "  File \"/home/ktavabi/miniconda3/envs/dash/lib/python3.6/site-packages/dash/dash.py\", line 541, in dispatch\n",
      "    return self.callback_map[target_id]['callback'](*args)\n",
      "  File \"/home/ktavabi/miniconda3/envs/dash/lib/python3.6/site-packages/dash/dash.py\", line 498, in add_context\n",
      "    output_value = func(*args, **kwargs)\n",
      "  File \"<ipython-input-5-27a80c4e35ef>\", line 80, in update_graph\n",
      "    x=df[xaxis_column_name],\n",
      "  File \"/home/ktavabi/miniconda3/envs/dash/lib/python3.6/site-packages/pandas/core/frame.py\", line 2139, in __getitem__\n",
      "    return self._getitem_column(key)\n",
      "  File \"/home/ktavabi/miniconda3/envs/dash/lib/python3.6/site-packages/pandas/core/frame.py\", line 2146, in _getitem_column\n",
      "    return self._get_item_cache(key)\n",
      "  File \"/home/ktavabi/miniconda3/envs/dash/lib/python3.6/site-packages/pandas/core/generic.py\", line 1842, in _get_item_cache\n",
      "    values = self._data.get(item)\n",
      "  File \"/home/ktavabi/miniconda3/envs/dash/lib/python3.6/site-packages/pandas/core/internals.py\", line 3847, in get\n",
      "    raise ValueError(\"cannot label index with a null key\")\n",
      "ValueError: cannot label index with a null key\n",
      "127.0.0.1 - - [06/Dec/2017 10:24:00] \"POST /_dash-update-component HTTP/1.1\" 500 -\n"
     ]
    }
   ],
   "source": [
    "app = dash.Dash()\n",
    "\n",
    "available_indicators = df.columns\n",
    "\n",
    "app.layout = html.Div(html.Div(children=[\n",
    "    html.H1(\n",
    "        children='NeuroLit',\n",
    "        style={\n",
    "            'textAlign': 'left',\n",
    "            'color': '#122850',\n",
    "            'fontSize': 55,\n",
    "            'font-family': 'arial'\n",
    "        }\n",
    "    ),\n",
    "\n",
    "    html.Div(\n",
    "        children='''UW Reading and Dyslexia Research Program.''',\n",
    "        style={\n",
    "            'textAlign': 'left',\n",
    "            'color': '#1e3f78',\n",
    "            'fontSize': 28,\n",
    "            'font-family': 'arial'\n",
    "        }\n",
    "    ),\n",
    "        html.Div([\n",
    "            dcc.Dropdown(\n",
    "                id='xaxis-column',\n",
    "                options=[{'label': i, 'value': i} for i in available_indicators],\n",
    "                placeholder='Choose data for x axis',\n",
    "                #value='Perceived Reading Skill'\n",
    "            ),\n",
    "            dcc.RadioItems(\n",
    "                id='xaxis-type',\n",
    "                options=[{'label': i, 'value': i} for i in ['Linear', 'Log']],\n",
    "                value='Linear',\n",
    "                labelStyle={'display': 'inline-block'}\n",
    "            )\n",
    "        ],\n",
    "        style={'width': '48%', 'display': 'inline-block', 'font-family': 'arial'}),\n",
    "\n",
    "        html.Div([\n",
    "            dcc.Dropdown(\n",
    "                id='yaxis-column',\n",
    "                options=[{'label': i, 'value': i} for i in available_indicators],\n",
    "                placeholder='Choose data for y axis',\n",
    "                #value='WJ Basic Reading Skills'\n",
    "            ),\n",
    "            dcc.RadioItems(\n",
    "                id='yaxis-type',\n",
    "                options=[{'label': i, 'value': i} for i in ['Linear', 'Log']],\n",
    "                value='Linear',\n",
    "                labelStyle={'display': 'inline-block'}\n",
    "            )\n",
    "        ],style={'width': '48%', 'float': 'right', 'display': 'inline-block', 'font-family': 'arial'}),\n",
    "        html.Div([\n",
    "           dcc.RadioItems(\n",
    "               id='chart_type',\n",
    "               options=[{'label': i, 'value': i} for i in ['Scatter', 'Bar']],\n",
    "               value = 'Scatter',\n",
    "               labelStyle={'display': 'inline-block'}\n",
    "           ) \n",
    "        ], style={'width': '48%', 'float': 'right', 'display': 'inline-block', 'font-family': 'arial'}),\n",
    "        html.Div([\n",
    "            dcc.Graph(id='graph'),\n",
    "        ], style={'display': 'inline-block', 'width': '49%'}),\n",
    "    \n",
    "]))\n",
    "@app.callback(\n",
    "    dash.dependencies.Output('graph', 'figure'),  \n",
    "    [dash.dependencies.Input('xaxis-column', 'value'),\n",
    "     dash.dependencies.Input('yaxis-column', 'value'),\n",
    "     dash.dependencies.Input('xaxis-type', 'value'),\n",
    "     dash.dependencies.Input('yaxis-type', 'value'),\n",
    "     dash.dependencies.Input('chart_type', 'value')])\n",
    "def update_graph(xaxis_column_name, yaxis_column_name,\n",
    "                 xaxis_type, yaxis_type, chart_type):\n",
    "    if chart_type == 'Scatter':\n",
    "        return {\n",
    "                'data': [go.Scatter(\n",
    "                    x=df[xaxis_column_name],\n",
    "                    y=df[yaxis_column_name],\n",
    "                    text=df[yaxis_column_name],\n",
    "                    mode='markers',\n",
    "                    marker={\n",
    "                        'size': 15,\n",
    "                        'opacity': 0.5,\n",
    "                        'color': 'purple',\n",
    "                        'line': {'width': 0.5, 'color': 'white'}\n",
    "                    }\n",
    "                )],\n",
    "                'layout': go.Layout(\n",
    "                xaxis={\n",
    "                    'title': xaxis_column_name,\n",
    "                    'type': 'linear' if xaxis_type == 'Linear' else 'log'\n",
    "                },\n",
    "                yaxis={\n",
    "                    'title': yaxis_column_name,\n",
    "                    'type': 'linear' if yaxis_type == 'Linear' else 'log'\n",
    "                },\n",
    "     #           margin={'l': 40, 'b': 40, 't': 10, 'r': 0},\n",
    "                hovermode='closest'\n",
    "            )\n",
    "        }\n",
    "    elif chart_type == 'Bar':    \n",
    "        return {\n",
    "            'data': [go.Bar(\n",
    "                x=df[xaxis_column_name],\n",
    "                y=df[yaxis_column_name],\n",
    "                text=df[yaxis_column_name],\n",
    "            )],\n",
    "        \n",
    "            'layout': go.Layout(\n",
    "                xaxis={\n",
    "                    'title': xaxis_column_name,\n",
    "                    'type': 'linear' if xaxis_type == 'Linear' else 'log'\n",
    "                },\n",
    "                yaxis={\n",
    "                    'title': yaxis_column_name,\n",
    "                    'type': 'linear' if yaxis_type == 'Linear' else 'log'\n",
    "                },\n",
    "                hovermode='closest'\n",
    "            )\n",
    "        }\n",
    "\n",
    "if __name__ == '__main__':\n",
    "    app.run_server()"
   ]
  },
  {
   "cell_type": "code",
   "execution_count": null,
   "metadata": {
    "ExecuteTime": {
     "end_time": "2017-12-06T17:39:52.310039Z",
     "start_time": "2017-12-06T17:39:52.306351Z"
    }
   },
   "outputs": [],
   "source": [
    "del app"
   ]
  },
  {
   "cell_type": "code",
   "execution_count": null,
   "metadata": {},
   "outputs": [],
   "source": []
  }
 ],
 "metadata": {
  "hide_input": false,
  "kernelspec": {
   "display_name": "Python 3",
   "language": "python",
   "name": "python3"
  },
  "toc": {
   "nav_menu": {},
   "number_sections": true,
   "sideBar": true,
   "skip_h1_title": false,
   "toc_cell": false,
   "toc_position": {},
   "toc_section_display": "block",
   "toc_window_display": true
  },
  "varInspector": {
   "cols": {
    "lenName": 16,
    "lenType": 16,
    "lenVar": 40
   },
   "kernels_config": {
    "python": {
     "delete_cmd_postfix": "",
     "delete_cmd_prefix": "del ",
     "library": "var_list.py",
     "varRefreshCmd": "print(var_dic_list())"
    },
    "r": {
     "delete_cmd_postfix": ") ",
     "delete_cmd_prefix": "rm(",
     "library": "var_list.r",
     "varRefreshCmd": "cat(var_dic_list()) "
    }
   },
   "oldHeight": 510,
   "position": {
    "height": "40px",
    "left": "2124px",
    "right": "71px",
    "top": "122px",
    "width": "365px"
   },
   "types_to_exclude": [
    "module",
    "function",
    "builtin_function_or_method",
    "instance",
    "_Feature"
   ],
   "varInspector_section_display": "none",
   "window_display": true
  }
 },
 "nbformat": 4,
 "nbformat_minor": 2
}
