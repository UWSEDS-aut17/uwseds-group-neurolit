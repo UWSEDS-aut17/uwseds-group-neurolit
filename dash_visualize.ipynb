{
 "cells": [
  {
   "cell_type": "markdown",
   "metadata": {},
   "source": [
    "# Visualization Notebook\n",
    "## NeuroLit\n",
    "## Sofware Engineering for Data Scientists, Autumn 2017\n",
    "### Maggie Clarke, Patrick Donnelly, & Sritam Kethireddy"
   ]
  },
  {
   "cell_type": "code",
   "execution_count": null,
   "metadata": {
    "ExecuteTime": {
     "start_time": "2017-12-06T18:25:32.494Z"
    }
   },
   "outputs": [],
   "source": [
    "# import necessary databases\n",
    "import dash\n",
    "import dash_core_components as dcc\n",
    "import dash_html_components as html\n",
    "import plotly.graph_objs as go\n",
    "import pandas as pd\n",
    "import numpy as np\n",
    "import neurolit as nlit"
   ]
  },
  {
   "cell_type": "code",
   "execution_count": null,
   "metadata": {
    "ExecuteTime": {
     "end_time": "2017-12-06T18:23:53.251261Z",
     "start_time": "2017-12-06T18:23:48.621858Z"
    }
   },
   "outputs": [],
   "source": [
    "# pull data using dataset function in neurolit module\n",
    "data = nlit.Dataset(data_folder = '~/Desktop')\n",
    "df = data.all_data"
   ]
  },
  {
   "cell_type": "markdown",
   "metadata": {},
   "source": [
    "# Dash app initialization"
   ]
  },
  {
   "cell_type": "code",
   "execution_count": null,
   "metadata": {
    "ExecuteTime": {
     "start_time": "2017-12-06T18:23:55.238Z"
    }
   },
   "outputs": [],
   "source": [
    "# define the layout for the Dash app\n",
    "app = dash.Dash()\n",
    "\n",
    "available_indicators = df.columns\n",
    "\n",
    "app.layout = html.Div(html.Div(children=[\n",
    "    html.H1(\n",
    "        children='NeuroLit Visualization Tool',\n",
    "        style={\n",
    "            'textAlign': 'left',\n",
    "            'color': '#122850',\n",
    "            'fontSize': 55,\n",
    "            'font-family': 'arial'\n",
    "        }\n",
    "    ),\n",
    "    \n",
    "    html.Div(\n",
    "        children='''UW Reading and Dyslexia Research Program.''',\n",
    "        style={\n",
    "            'textAlign': 'left',\n",
    "            'color': '#1e3f78',\n",
    "            'fontSize': 28,\n",
    "            'font-family': 'arial'\n",
    "        }\n",
    "    ),\n",
    "        html.Div([\n",
    "            dcc.Dropdown(\n",
    "                id='xaxis-column',\n",
    "                options=[{'label': i, 'value': i} for i in available_indicators],\n",
    "                placeholder='Choose data for x axis',\n",
    "                #value='Perceived Reading Skill'\n",
    "            ),\n",
    "            dcc.RadioItems(\n",
    "                id='xaxis-type',\n",
    "                options=[{'label': i, 'value': i} for i in ['Linear', 'Log']],\n",
    "                value='Linear',\n",
    "                labelStyle={'display': 'inline-block'}\n",
    "            )\n",
    "        ],\n",
    "        style={'width': '48%', 'display': 'inline-block', 'font-family': 'arial'}),\n",
    "\n",
    "        html.Div([\n",
    "            dcc.Dropdown(\n",
    "                id='yaxis-column',\n",
    "                options=[{'label': i, 'value': i} for i in available_indicators],\n",
    "                placeholder='Choose data for y axis',\n",
    "                #value='WJ Basic Reading Skills'\n",
    "            ),\n",
    "            dcc.RadioItems(\n",
    "                id='yaxis-type',\n",
    "                options=[{'label': i, 'value': i} for i in ['Linear', 'Log']],\n",
    "                value='Linear',\n",
    "                labelStyle={'display': 'inline-block'}\n",
    "            )\n",
    "        ],style={'width': '48%', 'float': 'right', 'display': 'inline-block', 'font-family': 'arial'}),\n",
    "        html.Div([\n",
    "           dcc.RadioItems(\n",
    "               id='chart_type',\n",
    "               options=[{'label': i, 'value': i} for i in ['Scatter', 'Bar']],\n",
    "               value = 'Scatter',\n",
    "               labelStyle={'display': 'inline-block'}\n",
    "           ) \n",
    "        ], style={'width': '48%', 'float': 'right', 'display': 'inline-block', 'font-family': 'arial'}),\n",
    "        html.Div([\n",
    "            dcc.Graph(id='graph'),\n",
    "        ], style={'display': 'inline-block', 'width': '49%'}),\n",
    "    \n",
    "]))"
   ]
  },
  {
   "cell_type": "code",
   "execution_count": null,
   "metadata": {},
   "outputs": [],
   "source": [
    "# initialize callback for interactive graphing\n",
    "@app.callback(\n",
    "    dash.dependencies.Output('graph', 'figure'),  \n",
    "    [dash.dependencies.Input('xaxis-column', 'value'),\n",
    "     dash.dependencies.Input('yaxis-column', 'value'),\n",
    "     dash.dependencies.Input('xaxis-type', 'value'),\n",
    "     dash.dependencies.Input('yaxis-type', 'value'),\n",
    "     dash.dependencies.Input('chart_type', 'value')])\n",
    "def update_graph(xaxis_column_name, yaxis_column_name,\n",
    "                 xaxis_type, yaxis_type, chart_type):\n",
    "    if chart_type == 'Scatter':\n",
    "        return {\n",
    "                'data': [go.Scatter(\n",
    "                    x=df[xaxis_column_name],\n",
    "                    y=df[yaxis_column_name],\n",
    "                    text=df[yaxis_column_name],\n",
    "                    mode='markers',\n",
    "                    marker={\n",
    "                        'size': 15,\n",
    "                        'opacity': 0.5,\n",
    "                        'color': df[xaxis_column_name],\n",
    "                        'line': {'width': 0.5, 'color': 'white'},\n",
    "                        'colorscale': 'Viridis',\n",
    "                        'showscale': True\n",
    "                    }\n",
    "                )],\n",
    "                'layout': go.Layout(\n",
    "                xaxis={\n",
    "                    'title': xaxis_column_name,\n",
    "                    'type': 'linear' if xaxis_type == 'Linear' else 'log'\n",
    "                },\n",
    "                yaxis={\n",
    "                    'title': yaxis_column_name,\n",
    "                    'type': 'linear' if yaxis_type == 'Linear' else 'log'\n",
    "                },\n",
    "     #           margin={'l': 40, 'b': 40, 't': 10, 'r': 0},\n",
    "                hovermode='closest'\n",
    "            )\n",
    "        }\n",
    "    elif chart_type == 'Bar':    \n",
    "        return {\n",
    "            'data': [go.Bar(\n",
    "                x=df[xaxis_column_name],\n",
    "                y=df[yaxis_column_name],\n",
    "                text=df[yaxis_column_name],\n",
    "            )],\n",
    "        \n",
    "            'layout': go.Layout(\n",
    "                xaxis={\n",
    "                    'title': xaxis_column_name,\n",
    "                    'type': 'linear' if xaxis_type == 'Linear' else 'log'\n",
    "                },\n",
    "                yaxis={\n",
    "                    'title': yaxis_column_name,\n",
    "                    'type': 'linear' if yaxis_type == 'Linear' else 'log'\n",
    "                },\n",
    "                hovermode='closest'\n",
    "            )\n",
    "        }"
   ]
  },
  {
   "cell_type": "code",
   "execution_count": null,
   "metadata": {
    "ExecuteTime": {
     "end_time": "2017-12-06T17:39:52.310039Z",
     "start_time": "2017-12-06T17:39:52.306351Z"
    }
   },
   "outputs": [],
   "source": [
    "if __name__ == '__main__':\n",
    "    app.run_server()"
   ]
  },
  {
   "cell_type": "code",
   "execution_count": null,
   "metadata": {
    "collapsed": true
   },
   "outputs": [],
   "source": [
    "del app"
   ]
  },
  {
   "cell_type": "code",
   "execution_count": null,
   "metadata": {
    "collapsed": true
   },
   "outputs": [],
   "source": []
  }
 ],
 "metadata": {
  "hide_input": false,
  "kernelspec": {
   "display_name": "Python 3",
   "language": "python",
   "name": "python3"
  },
  "language_info": {
   "codemirror_mode": {
    "name": "ipython",
    "version": 3
   },
   "file_extension": ".py",
   "mimetype": "text/x-python",
   "name": "python",
   "nbconvert_exporter": "python",
   "pygments_lexer": "ipython3",
   "version": "3.6.0"
  },
  "toc": {
   "nav_menu": {},
   "number_sections": true,
   "sideBar": true,
   "skip_h1_title": false,
   "toc_cell": false,
   "toc_position": {},
   "toc_section_display": "block",
   "toc_window_display": true
  },
  "varInspector": {
   "cols": {
    "lenName": 16,
    "lenType": 16,
    "lenVar": 40
   },
   "kernels_config": {
    "python": {
     "delete_cmd_postfix": "",
     "delete_cmd_prefix": "del ",
     "library": "var_list.py",
     "varRefreshCmd": "print(var_dic_list())"
    },
    "r": {
     "delete_cmd_postfix": ") ",
     "delete_cmd_prefix": "rm(",
     "library": "var_list.r",
     "varRefreshCmd": "cat(var_dic_list()) "
    }
   },
   "oldHeight": 510,
   "position": {
    "height": "40px",
    "left": "2124px",
    "right": "71px",
    "top": "122px",
    "width": "365px"
   },
   "types_to_exclude": [
    "module",
    "function",
    "builtin_function_or_method",
    "instance",
    "_Feature"
   ],
   "varInspector_section_display": "none",
   "window_display": true
  }
 },
 "nbformat": 4,
 "nbformat_minor": 2
}
