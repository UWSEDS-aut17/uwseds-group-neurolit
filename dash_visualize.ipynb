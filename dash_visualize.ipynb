{
 "cells": [
  {
   "cell_type": "code",
   "execution_count": 1,
   "metadata": {
    "ExecuteTime": {
     "end_time": "2017-12-02T00:09:15.638458Z",
     "start_time": "2017-12-02T00:09:14.253282Z"
    }
   },
   "outputs": [
    {
     "name": "stderr",
     "output_type": "stream",
     "text": [
      "WARNING (theano.tensor.blas): Using NumPy C-API based implementation for BLAS functions.\n",
      "C:\\Users\\Patrick\\Anaconda3\\lib\\site-packages\\sklearn\\cross_validation.py:41: DeprecationWarning:\n",
      "\n",
      "This module was deprecated in version 0.18 in favor of the model_selection module into which all the refactored classes and functions are moved. Also note that the interface of the new CV iterators are different from that of this module. This module will be removed in 0.20.\n",
      "\n"
     ]
    }
   ],
   "source": [
    "import dash\n",
    "import dash_core_components as dcc\n",
    "import dash_html_components as html\n",
    "import plotly.graph_objs as go\n",
    "import pandas as pd\n",
    "import numpy as np\n",
    "import neurolit as nlit"
   ]
  },
  {
   "cell_type": "code",
   "execution_count": 2,
   "metadata": {
    "ExecuteTime": {
     "end_time": "2017-12-02T00:09:38.066639Z",
     "start_time": "2017-12-02T00:09:33.342049Z"
    }
   },
   "outputs": [
    {
     "name": "stdout",
     "output_type": "stream",
     "text": [
      "What is the API token? 3BEACA40686F7E49838332760FC162EF\n"
     ]
    }
   ],
   "source": [
    "data = nlit.Dataset(data_folder = '~/Desktop')\n",
    "df = data.all_data"
   ]
  },
  {
   "cell_type": "code",
   "execution_count": null,
   "metadata": {
    "ExecuteTime": {
     "start_time": "2017-12-02T00:27:12.296Z"
    }
   },
   "outputs": [
    {
     "name": "stderr",
     "output_type": "stream",
     "text": [
      " * Running on http://127.0.0.1:8050/ (Press CTRL+C to quit)\n",
      "127.0.0.1 - - [05/Dec/2017 11:40:04] \"GET / HTTP/1.1\" 200 -\n",
      "127.0.0.1 - - [05/Dec/2017 11:40:05] \"GET /_dash-dependencies HTTP/1.1\" 200 -\n",
      "127.0.0.1 - - [05/Dec/2017 11:40:05] \"GET /_dash-layout HTTP/1.1\" 200 -\n",
      "127.0.0.1 - - [05/Dec/2017 11:40:42] \"POST /_dash-update-component HTTP/1.1\" 200 -\n",
      "127.0.0.1 - - [05/Dec/2017 11:40:42] \"POST /_dash-update-component HTTP/1.1\" 200 -\n",
      "127.0.0.1 - - [05/Dec/2017 11:41:13] \"POST /_dash-update-component HTTP/1.1\" 200 -\n",
      "127.0.0.1 - - [05/Dec/2017 11:41:13] \"POST /_dash-update-component HTTP/1.1\" 200 -\n"
     ]
    }
   ],
   "source": [
    "app = dash.Dash()\n",
    "\n",
    "available_indicators = df.columns\n",
    "\n",
    "app.layout = html.Div([\n",
    "    html.Div([\n",
    "\n",
    "        html.Div([\n",
    "            dcc.Dropdown(\n",
    "                id='xaxis-column',\n",
    "                options=[{'label': i, 'value': i} for i in available_indicators],\n",
    "                value='Perceived Reading Skill'\n",
    "            ),\n",
    "            dcc.RadioItems(\n",
    "                id='xaxis-type',\n",
    "                options=[{'label': i, 'value': i} for i in ['Linear', 'Log']],\n",
    "                value='Linear',\n",
    "                labelStyle={'display': 'inline-block'}\n",
    "            )\n",
    "        ],\n",
    "        style={'width': '48%', 'display': 'inline-block'}),\n",
    "\n",
    "        html.Div([\n",
    "            dcc.Dropdown(\n",
    "                id='yaxis-column',\n",
    "                options=[{'label': i, 'value': i} for i in available_indicators],\n",
    "                value='WJ Basic Reading Skills'\n",
    "            ),\n",
    "            dcc.RadioItems(\n",
    "                id='yaxis-type',\n",
    "                options=[{'label': i, 'value': i} for i in ['Linear', 'Log']],\n",
    "                value='Linear',\n",
    "                labelStyle={'display': 'inline-block'}\n",
    "            )\n",
    "        ],style={'width': '48%', 'float': 'right', 'display': 'inline-block'})\n",
    "    ]),\n",
    "        html.Div([\n",
    "           dcc.RadioItems(\n",
    "               id='chart_type',\n",
    "               options=[{'label': i, 'value': i} for i in ['Scatter', 'Bar']],\n",
    "               value = 'Scatter',\n",
    "               labelStyle={'display': 'inline-block'}\n",
    "           ) \n",
    "        ], style={'width': '48%', 'float': 'right', 'display': 'inline-block'}),\n",
    "        html.Div([\n",
    "            dcc.Graph(id='graph'),\n",
    "        ], style={'display': 'inline-block', 'width': '49%'}),\n",
    "    \n",
    "])\n",
    "@app.callback(\n",
    "    dash.dependencies.Output('graph', 'figure'),  \n",
    "    [dash.dependencies.Input('xaxis-column', 'value'),\n",
    "     dash.dependencies.Input('yaxis-column', 'value'),\n",
    "     dash.dependencies.Input('xaxis-type', 'value'),\n",
    "     dash.dependencies.Input('yaxis-type', 'value'),\n",
    "     dash.dependencies.Input('chart_type', 'value')])\n",
    "def update_graph(xaxis_column_name, yaxis_column_name,\n",
    "                 xaxis_type, yaxis_type, chart_type):\n",
    "    if chart_type == 'Scatter':\n",
    "        return {\n",
    "                'data': [go.Scatter(\n",
    "                    x=df[xaxis_column_name],\n",
    "                    y=df[yaxis_column_name],\n",
    "                    text=df[yaxis_column_name],\n",
    "                    mode='markers',\n",
    "                    marker={\n",
    "                        'size': 15,\n",
    "                        'opacity': 0.5,\n",
    "                        'line': {'width': 0.5, 'color': 'white'}\n",
    "                    }\n",
    "                )],\n",
    "                'layout': go.Layout(\n",
    "                xaxis={\n",
    "                    'title': xaxis_column_name,\n",
    "                    'type': 'linear' if xaxis_type == 'Linear' else 'log'\n",
    "                },\n",
    "                yaxis={\n",
    "                    'title': yaxis_column_name,\n",
    "                    'type': 'linear' if yaxis_type == 'Linear' else 'log'\n",
    "                },\n",
    "     #           margin={'l': 40, 'b': 40, 't': 10, 'r': 0},\n",
    "                hovermode='closest'\n",
    "            )\n",
    "        }\n",
    "    elif chart_type == 'Bar':    \n",
    "        return {\n",
    "            'data': [go.Bar(\n",
    "                x=df[xaxis_column_name],\n",
    "                y=df[yaxis_column_name],\n",
    "                text=df[yaxis_column_name],\n",
    "            )],\n",
    "        \n",
    "            'layout': go.Layout(\n",
    "                xaxis={\n",
    "                    'title': xaxis_column_name,\n",
    "                    'type': 'linear' if xaxis_type == 'Linear' else 'log'\n",
    "                },\n",
    "                yaxis={\n",
    "                    'title': yaxis_column_name,\n",
    "                    'type': 'linear' if yaxis_type == 'Linear' else 'log'\n",
    "                },\n",
    "                hovermode='closest'\n",
    "            )\n",
    "        }\n",
    "\n",
    "if __name__ == '__main__':\n",
    "    app.run_server()"
   ]
  },
  {
   "cell_type": "code",
   "execution_count": null,
   "metadata": {
    "ExecuteTime": {
     "end_time": "2017-12-02T00:27:09.793470Z",
     "start_time": "2017-12-02T00:27:09.790710Z"
    }
   },
   "outputs": [],
   "source": [
    "del app"
   ]
  }
 ],
 "metadata": {
  "hide_input": false,
  "kernelspec": {
   "display_name": "Python 3",
   "language": "python",
   "name": "python3"
  },
  "language_info": {
   "codemirror_mode": {
    "name": "ipython",
    "version": 3
   },
   "file_extension": ".py",
   "mimetype": "text/x-python",
   "name": "python",
   "nbconvert_exporter": "python",
   "pygments_lexer": "ipython3",
   "version": "3.6.0"
  },
  "toc": {
   "nav_menu": {},
   "number_sections": true,
   "sideBar": true,
   "skip_h1_title": false,
   "toc_cell": false,
   "toc_position": {},
   "toc_section_display": "block",
   "toc_window_display": true
  },
  "varInspector": {
   "cols": {
    "lenName": 16,
    "lenType": 16,
    "lenVar": 40
   },
   "kernels_config": {
    "python": {
     "delete_cmd_postfix": "",
     "delete_cmd_prefix": "del ",
     "library": "var_list.py",
     "varRefreshCmd": "print(var_dic_list())"
    },
    "r": {
     "delete_cmd_postfix": ") ",
     "delete_cmd_prefix": "rm(",
     "library": "var_list.r",
     "varRefreshCmd": "cat(var_dic_list()) "
    }
   },
   "oldHeight": 510,
   "position": {
    "height": "40px",
    "left": "2124px",
    "right": "71px",
    "top": "122px",
    "width": "365px"
   },
   "types_to_exclude": [
    "module",
    "function",
    "builtin_function_or_method",
    "instance",
    "_Feature"
   ],
   "varInspector_section_display": "none",
   "window_display": true
  }
 },
 "nbformat": 4,
 "nbformat_minor": 2
}
