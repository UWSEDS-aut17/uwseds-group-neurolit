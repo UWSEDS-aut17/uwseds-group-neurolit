{
 "cells": [
  {
   "cell_type": "markdown",
   "metadata": {},
   "source": [
    "# Visualization Notebook\n",
    "## NeuroLit\n",
    "## Sofware Engineering for Data Scientists, Autumn 2017\n",
    "### Maggie Clarke, Patrick Donnelly, & Sritam Kethireddy"
   ]
  },
  {
   "cell_type": "code",
   "execution_count": null,
   "metadata": {
    "ExecuteTime": {
     "start_time": "2017-12-06T18:25:32.494Z"
    }
   },
   "outputs": [],
   "source": [
    "# import necessary databases\n",
    "import dash, os\n",
    "import dash_core_components as dcc\n",
    "import dash_html_components as html\n",
    "import plotly.graph_objs as go\n",
    "import pandas as pd\n",
    "import numpy as np\n",
    "import neurolit as nlit"
   ]
  },
  {
   "cell_type": "code",
   "execution_count": null,
   "metadata": {
    "ExecuteTime": {
     "end_time": "2017-12-06T18:23:53.251261Z",
     "start_time": "2017-12-06T18:23:48.621858Z"
    },
    "collapsed": true
   },
   "outputs": [],
   "source": [
    "# pull data using dataset function in neurolit module\n",
    "ilabs_data = nlit.Dataset(data_folder = os.path.join(nlit.__path__[0],'data'), token_file = 'neurolit_api_token.txt')\n",
    "# shortens dataset variable for ease in workflow\n",
    "df = ilabs_data.all_data"
   ]
  },
  {
   "cell_type": "markdown",
   "metadata": {},
   "source": [
    "# Dash app initialization"
   ]
  },
  {
   "cell_type": "code",
   "execution_count": null,
   "metadata": {
    "ExecuteTime": {
     "start_time": "2017-12-06T18:23:55.238Z"
    },
    "collapsed": true
   },
   "outputs": [],
   "source": [
    "# define the layout for the Dash app\n",
    "app = dash.Dash()\n",
    "\n",
    "available_indicators = df.columns\n",
    "\n",
    "app.layout = html.Div(html.Div(children=[\n",
    "    html.H1(\n",
    "        children='NeuroLit Visualization Tool',\n",
    "        style={\n",
    "            'textAlign': 'left',\n",
    "            'color': '#122850',\n",
    "            'fontSize': 55,\n",
    "            'font-family': 'arial'\n",
    "        }\n",
    "    ),\n",
    "    \n",
    "    html.Div(\n",
    "        children='''UW Reading and Dyslexia Research Program.''',\n",
    "        style={\n",
    "            'textAlign': 'left',\n",
    "            'color': '#1e3f78',\n",
    "            'fontSize': 28,\n",
    "            'font-family': 'arial'\n",
    "        }\n",
    "    ),\n",
    "        html.Div(\n",
    "            dcc.Dropdown(\n",
    "                id='xaxis-column',\n",
    "                options=[{'label': i, 'value': i} for i in available_indicators],\n",
    "                placeholder='Choose first predictor variable',\n",
    "                #value='Perceived Reading Skill'\n",
    "            ),\n",
    "           \n",
    "        ),\n",
    "        html.Div(\n",
    "            dcc.Dropdown(\n",
    "                id='yaxis-column',\n",
    "                options=[{'label': i, 'value': i} for i in available_indicators],\n",
    "                placeholder='Choose second predictor variable',\n",
    "                #value='WJ Basic Reading Skills'\n",
    "            ),\n",
    "        ), \n",
    "        \n",
    "        html.Div(\n",
    "            dcc.Dropdown(\n",
    "                id='outcome-variable',\n",
    "                options=[{'label': i, 'value': i} for i in available_indicators],\n",
    "                placeholder='Choose Outcome variable',\n",
    "                #value='WJ Basic Reading Skills'\n",
    "            ),\n",
    "           \n",
    "        ),\n",
    "    \n",
    "        html.Div([\n",
    "            dcc.Graph(id='graph1'),\n",
    "        ], style={'display': 'inline-block', 'width': '49%'}),\n",
    "    \n",
    "        html.Div([\n",
    "            dcc.Graph(id='graph2'),\n",
    "        ], style={'display': 'inline-block', 'width': '49%'}),\n",
    "    \n",
    "]))"
   ]
  },
  {
   "cell_type": "code",
   "execution_count": null,
   "metadata": {
    "collapsed": true
   },
   "outputs": [],
   "source": [
    "@app.callback(\n",
    "    dash.dependencies.Output('graph1', 'figure'),\n",
    "    [dash.dependencies.Input('xaxis-column', 'value'),\n",
    "     dash.dependencies.Input('yaxis-column', 'value'),\n",
    "     dash.dependencies.Input('outcome-variable', 'value')])\n",
    "def update_graph(xaxis_column_name, yaxis_column_name, outcome_variable):\n",
    "\n",
    "        return {\n",
    "                'data': [go.Scatter(\n",
    "                    x=df[xaxis_column_name],\n",
    "                    y=df[outcome_variable],\n",
    "                    text=df[yaxis_column_name],\n",
    "                    mode='markers',\n",
    "                    marker={\n",
    "                        'size': 15,\n",
    "                        'opacity': 0.5,\n",
    "                        'color': df[outcome_variable],\n",
    "                        'line': {'width': 0.5, 'color': 'white'},\n",
    "                        'colorscale': 'Viridis',\n",
    "                        'showscale': True\n",
    "                    }\n",
    "                )],\n",
    "                'layout': go.Layout(\n",
    "                    xaxis={\n",
    "                        'title': xaxis_column_name\n",
    "                },\n",
    "                    yaxis={\n",
    "                        'title': outcome_variable\n",
    "            })\n",
    "\n",
    "        }\n",
    "    \n",
    "@app.callback(\n",
    "    dash.dependencies.Output('graph2', 'figure'),\n",
    "    [dash.dependencies.Input('xaxis-column', 'value'),\n",
    "     dash.dependencies.Input('yaxis-column', 'value'),\n",
    "     dash.dependencies.Input('outcome-variable', 'value')])\n",
    "def update_graph(xaxis_column_name, yaxis_column_name, outcome_variable):\n",
    "\n",
    "        return {\n",
    "                'data': [go.Scatter(\n",
    "                    x=df[yaxis_column_name],\n",
    "                    y=df[outcome_variable],\n",
    "                    text=df[yaxis_column_name],\n",
    "                    mode='markers',\n",
    "                    marker={\n",
    "                        'size': 15,\n",
    "                        'opacity': 0.5,\n",
    "                        'color': df[outcome_variable],\n",
    "                        'line': {'width': 0.5, 'color': 'white'},\n",
    "                        'colorscale': 'viridis_rgb',\n",
    "                        'showscale': True\n",
    "                    }\n",
    "                )],\n",
    "                'layout': go.Layout(\n",
    "                    xaxis={\n",
    "                        'title': yaxis_column_name\n",
    "                },\n",
    "                    yaxis={\n",
    "                        'title': outcome_variable\n",
    "            })\n",
    "\n",
    "        }"
   ]
  },
  {
   "cell_type": "code",
   "execution_count": null,
   "metadata": {
    "ExecuteTime": {
     "end_time": "2017-12-06T17:39:52.310039Z",
     "start_time": "2017-12-06T17:39:52.306351Z"
    },
    "collapsed": true
   },
   "outputs": [],
   "source": [
    "if __name__ == '__main__':\n",
    "    app.run_server()"
   ]
  },
  {
   "cell_type": "code",
   "execution_count": null,
   "metadata": {
    "collapsed": true
   },
   "outputs": [],
   "source": [
    "del app"
   ]
  }
 ],
 "metadata": {
  "hide_input": false,
  "kernelspec": {
   "display_name": "Python 3",
   "language": "python",
   "name": "python3"
  },
  "language_info": {
   "codemirror_mode": {
    "name": "ipython",
    "version": 3
   },
   "file_extension": ".py",
   "mimetype": "text/x-python",
   "name": "python",
   "nbconvert_exporter": "python",
   "pygments_lexer": "ipython3",
   "version": "3.6.0"
  },
  "toc": {
   "nav_menu": {},
   "number_sections": true,
   "sideBar": true,
   "skip_h1_title": false,
   "toc_cell": false,
   "toc_position": {},
   "toc_section_display": "block",
   "toc_window_display": true
  },
  "varInspector": {
   "cols": {
    "lenName": 16,
    "lenType": 16,
    "lenVar": 40
   },
   "kernels_config": {
    "python": {
     "delete_cmd_postfix": "",
     "delete_cmd_prefix": "del ",
     "library": "var_list.py",
     "varRefreshCmd": "print(var_dic_list())"
    },
    "r": {
     "delete_cmd_postfix": ") ",
     "delete_cmd_prefix": "rm(",
     "library": "var_list.r",
     "varRefreshCmd": "cat(var_dic_list()) "
    }
   },
   "oldHeight": 510,
   "position": {
    "height": "40px",
    "left": "2124px",
    "right": "71px",
    "top": "122px",
    "width": "365px"
   },
   "types_to_exclude": [
    "module",
    "function",
    "builtin_function_or_method",
    "instance",
    "_Feature"
   ],
   "varInspector_section_display": "none",
   "window_display": true
  }
 },
 "nbformat": 4,
 "nbformat_minor": 2
}
